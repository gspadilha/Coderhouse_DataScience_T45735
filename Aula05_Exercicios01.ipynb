{
 "cells": [
  {
   "cell_type": "code",
   "execution_count": 1,
   "id": "040c64df",
   "metadata": {},
   "outputs": [],
   "source": [
    "import numpy as np"
   ]
  },
  {
   "cell_type": "code",
   "execution_count": 2,
   "id": "718bbf51",
   "metadata": {},
   "outputs": [],
   "source": [
    "array = np.random.randint(1, 21, size=20)"
   ]
  },
  {
   "cell_type": "code",
   "execution_count": 3,
   "id": "f8cfb86e",
   "metadata": {},
   "outputs": [
    {
     "name": "stdout",
     "output_type": "stream",
     "text": [
      "[10  9  5 12  2  9 12  6 19  7 16 18  8 12  9 17 20 10 14 10]\n"
     ]
    }
   ],
   "source": [
    "print(array)"
   ]
  },
  {
   "cell_type": "code",
   "execution_count": 12,
   "id": "23326b39",
   "metadata": {},
   "outputs": [
    {
     "name": "stdout",
     "output_type": "stream",
     "text": [
      "[ 9 12  6 19  7 16 18  8 12  9]\n"
     ]
    }
   ],
   "source": [
    "print(array[5:][:-5])"
   ]
  },
  {
   "cell_type": "code",
   "execution_count": 13,
   "id": "5733157f",
   "metadata": {},
   "outputs": [
    {
     "name": "stdout",
     "output_type": "stream",
     "text": [
      "[ 9 12  6 19  7 16 18  8 12  9]\n"
     ]
    }
   ],
   "source": [
    "print(array[5:-5])"
   ]
  },
  {
   "cell_type": "code",
   "execution_count": null,
   "id": "53f4727d",
   "metadata": {},
   "outputs": [],
   "source": []
  }
 ],
 "metadata": {
  "kernelspec": {
   "display_name": "Python 3 (ipykernel)",
   "language": "python",
   "name": "python3"
  },
  "language_info": {
   "codemirror_mode": {
    "name": "ipython",
    "version": 3
   },
   "file_extension": ".py",
   "mimetype": "text/x-python",
   "name": "python",
   "nbconvert_exporter": "python",
   "pygments_lexer": "ipython3",
   "version": "3.11.4"
  }
 },
 "nbformat": 4,
 "nbformat_minor": 5
}
