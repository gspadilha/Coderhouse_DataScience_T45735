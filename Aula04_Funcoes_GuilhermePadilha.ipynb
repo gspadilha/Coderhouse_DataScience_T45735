{
 "cells": [
  {
   "cell_type": "code",
   "execution_count": 1,
   "id": "e8bc819a",
   "metadata": {},
   "outputs": [],
   "source": [
    " def calcular_fatorial(n):\n",
    "        retorno = 1\n",
    "        \n",
    "        for i in range(1, n+1):\n",
    "            retorno *= i\n",
    "            \n",
    "        return retorno"
   ]
  },
  {
   "cell_type": "code",
   "execution_count": 2,
   "id": "2e95609e",
   "metadata": {},
   "outputs": [
    {
     "name": "stdout",
     "output_type": "stream",
     "text": [
      "Fatorial de 1!: 1\n",
      "Fatorial de 2!: 2\n",
      "Fatorial de 3!: 6\n",
      "Fatorial de 4!: 24\n",
      "Fatorial de 5!: 120\n",
      "Fatorial de 6!: 720\n",
      "Fatorial de 7!: 5040\n",
      "Fatorial de 8!: 40320\n",
      "Fatorial de 9!: 362880\n",
      "Fatorial de 10!: 3628800\n",
      "Fatorial de 11!: 39916800\n",
      "Fatorial de 12!: 479001600\n",
      "Fatorial de 13!: 6227020800\n",
      "Fatorial de 14!: 87178291200\n",
      "Fatorial de 15!: 1307674368000\n",
      "Fatorial de 16!: 20922789888000\n",
      "Fatorial de 17!: 355687428096000\n",
      "Fatorial de 18!: 6402373705728000\n",
      "Fatorial de 19!: 121645100408832000\n"
     ]
    }
   ],
   "source": [
    "for i in range (1, 20):\n",
    "    print('Fatorial de ', i, '!: ', calcular_fatorial(i), sep='')"
   ]
  },
  {
   "cell_type": "code",
   "execution_count": 3,
   "id": "89fcf701",
   "metadata": {},
   "outputs": [],
   "source": [
    "def calcular_intervalo(x, y):\n",
    "    if x >= y:\n",
    "        return 'O valor inicial deve ser maior que o valor final'\n",
    "    \n",
    "    soma = 0\n",
    "    \n",
    "    for i in range(x, y+1):\n",
    "        soma += i\n",
    "        \n",
    "    return soma        "
   ]
  },
  {
   "cell_type": "code",
   "execution_count": 4,
   "id": "7e7de826",
   "metadata": {},
   "outputs": [
    {
     "name": "stdout",
     "output_type": "stream",
     "text": [
      "A soma do números do intervalo entre 1 e 20 é 210\n",
      "A soma do números do intervalo entre 2 e 20 é 209\n",
      "A soma do números do intervalo entre 3 e 20 é 207\n",
      "A soma do números do intervalo entre 4 e 20 é 204\n",
      "A soma do números do intervalo entre 5 e 20 é 200\n",
      "A soma do números do intervalo entre 6 e 20 é 195\n",
      "A soma do números do intervalo entre 7 e 20 é 189\n",
      "A soma do números do intervalo entre 8 e 20 é 182\n",
      "A soma do números do intervalo entre 9 e 20 é 174\n",
      "A soma do números do intervalo entre 10 e 20 é 165\n",
      "A soma do números do intervalo entre 11 e 20 é 155\n",
      "A soma do números do intervalo entre 12 e 20 é 144\n",
      "A soma do números do intervalo entre 13 e 20 é 132\n",
      "A soma do números do intervalo entre 14 e 20 é 119\n",
      "A soma do números do intervalo entre 15 e 20 é 105\n",
      "A soma do números do intervalo entre 16 e 20 é 90\n",
      "A soma do números do intervalo entre 17 e 20 é 74\n",
      "A soma do números do intervalo entre 18 e 20 é 57\n",
      "A soma do números do intervalo entre 19 e 20 é 39\n"
     ]
    }
   ],
   "source": [
    "for i in range (1, 20):\n",
    "    print('A soma do números do intervalo entre ', i, ' e 20 é ', calcular_intervalo(i, 20), sep='')"
   ]
  },
  {
   "cell_type": "code",
   "execution_count": 5,
   "id": "ae2c3691",
   "metadata": {},
   "outputs": [
    {
     "name": "stdout",
     "output_type": "stream",
     "text": [
      "O valor inicial deve ser maior que o valor final\n"
     ]
    }
   ],
   "source": [
    "print(calcular_intervalo(10, 7), sep='')"
   ]
  }
 ],
 "metadata": {
  "kernelspec": {
   "display_name": "Python 3 (ipykernel)",
   "language": "python",
   "name": "python3"
  },
  "language_info": {
   "codemirror_mode": {
    "name": "ipython",
    "version": 3
   },
   "file_extension": ".py",
   "mimetype": "text/x-python",
   "name": "python",
   "nbconvert_exporter": "python",
   "pygments_lexer": "ipython3",
   "version": "3.11.4"
  }
 },
 "nbformat": 4,
 "nbformat_minor": 5
}
