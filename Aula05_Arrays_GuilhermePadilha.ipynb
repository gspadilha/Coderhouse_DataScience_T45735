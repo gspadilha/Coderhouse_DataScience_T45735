{
 "cells": [
  {
   "cell_type": "code",
   "execution_count": 1,
   "id": "5284d747",
   "metadata": {},
   "outputs": [],
   "source": [
    "import numpy as np"
   ]
  },
  {
   "cell_type": "code",
   "execution_count": 8,
   "id": "cf26ae25",
   "metadata": {},
   "outputs": [],
   "source": [
    "# Gerar um array aleatório de 100 elementos\n",
    "np.random.seed(10)\n",
    "array_aleatorio = np.random.randint(1, 101, size=100)"
   ]
  },
  {
   "cell_type": "code",
   "execution_count": 9,
   "id": "f6e9c8a4",
   "metadata": {},
   "outputs": [
    {
     "name": "stdout",
     "output_type": "stream",
     "text": [
      "[10 16 65 29 90 94 30  9 74  1 41 37 17 12 55 89 63 34 73 79 50 52 55 78\n",
      " 70 14 26 14 93 87 31 31 90 13 66 32 58 37 28 19 94 78 23 24 95 12 29 75\n",
      " 89 10 16 19 81 72 89 12 18 47  8 76 29 34 85 97 89 45  6  5 72 89 89 51\n",
      " 55 35 16 78 89 16  7 86 23 12 13 93 97 63 58 80 43 58 98 51 46 41 90 74\n",
      " 38  1 19 24]\n"
     ]
    }
   ],
   "source": [
    "print(array_aleatorio)"
   ]
  },
  {
   "cell_type": "code",
   "execution_count": 10,
   "id": "1d3ef0ff",
   "metadata": {},
   "outputs": [],
   "source": [
    "# Ordenar o array\n",
    "array_ordenado = np.sort(array_aleatorio)"
   ]
  },
  {
   "cell_type": "code",
   "execution_count": 11,
   "id": "b603d4e4",
   "metadata": {},
   "outputs": [
    {
     "name": "stdout",
     "output_type": "stream",
     "text": [
      "[ 1  1  5  6  7  8  9 10 10 12 12 12 12 13 13 14 14 16 16 16 16 17 18 19\n",
      " 19 19 23 23 24 24 26 28 29 29 29 30 31 31 32 34 34 35 37 37 38 41 41 43\n",
      " 45 46 47 50 51 51 52 55 55 55 58 58 58 63 63 65 66 70 72 72 73 74 74 75\n",
      " 76 78 78 78 79 80 81 85 86 87 89 89 89 89 89 89 89 90 90 90 93 93 94 94\n",
      " 95 97 97 98]\n"
     ]
    }
   ],
   "source": [
    "print(array_ordenado)"
   ]
  },
  {
   "cell_type": "code",
   "execution_count": 17,
   "id": "76395a49",
   "metadata": {},
   "outputs": [
    {
     "name": "stdout",
     "output_type": "stream",
     "text": [
      "mediana 46.5\n",
      "média 49.24  ou  49.24\n",
      "soma 4924\n",
      "desvio 30.363504409076366\n",
      "variância 921.9424\n"
     ]
    }
   ],
   "source": [
    "# Calcular a mediana correspondente\n",
    "print('mediana', np.median(array_ordenado))\n",
    "# Calcular a média correspondente\n",
    "print('média', np.average(array_ordenado), ' ou ', np.mean(array_ordenado))\n",
    "# Calcular a soma correspondente\n",
    "print('soma', np.sum(array_ordenado))\n",
    "# Calcular a desvio correspondente\n",
    "print('desvio', np.std(array_ordenado))\n",
    "# Calcular a variância correspondente\n",
    "print('variância', np.var(array_ordenado))"
   ]
  },
  {
   "cell_type": "code",
   "execution_count": 8,
   "id": "8ae2138d",
   "metadata": {},
   "outputs": [],
   "source": [
    "# Escrever uma função para calcular o fatorial de um número qualquer\n",
    "def calcular_fatorial(n):\n",
    "    numeros = np.arange(1, n+1, dtype=np.int64)\n",
    "    retorno = np.prod(numeros)\n",
    "    return retorno"
   ]
  },
  {
   "cell_type": "code",
   "execution_count": 9,
   "id": "9acaf9a6",
   "metadata": {},
   "outputs": [
    {
     "name": "stdout",
     "output_type": "stream",
     "text": [
      "Fatorial de 1!: 1\n",
      "Fatorial de 2!: 2\n",
      "Fatorial de 3!: 6\n",
      "Fatorial de 4!: 24\n",
      "Fatorial de 5!: 120\n",
      "Fatorial de 6!: 720\n",
      "Fatorial de 7!: 5040\n",
      "Fatorial de 8!: 40320\n",
      "Fatorial de 9!: 362880\n",
      "Fatorial de 10!: 3628800\n",
      "Fatorial de 11!: 39916800\n",
      "Fatorial de 12!: 479001600\n",
      "Fatorial de 13!: 6227020800\n",
      "Fatorial de 14!: 87178291200\n",
      "Fatorial de 15!: 1307674368000\n",
      "Fatorial de 16!: 20922789888000\n",
      "Fatorial de 17!: 355687428096000\n",
      "Fatorial de 18!: 6402373705728000\n",
      "Fatorial de 19!: 121645100408832000\n"
     ]
    }
   ],
   "source": [
    "for i in range (1, 20):\n",
    "    print('Fatorial de ', i, '!: ', calcular_fatorial(i), sep='')"
   ]
  },
  {
   "cell_type": "code",
   "execution_count": 10,
   "id": "18397104",
   "metadata": {},
   "outputs": [],
   "source": [
    "# Escrever uma função para calcular a soma de uma série começando por um número qualquer e\n",
    "# terminando em outro número que deve ser maior que o primeiro\n",
    "def calcular_intervalo(x, y):\n",
    "    if x >= y:\n",
    "        return 'O valor inicial deve ser maior que o valor final'\n",
    "    \n",
    "    intervalo = np.arange(x, y+1)\n",
    "    soma = np.sum(intervalo)\n",
    "    \n",
    "    return soma"
   ]
  },
  {
   "cell_type": "code",
   "execution_count": 11,
   "id": "53557d73",
   "metadata": {},
   "outputs": [
    {
     "name": "stdout",
     "output_type": "stream",
     "text": [
      "A soma do números do intervalo entre 1 e 20 é 210\n",
      "A soma do números do intervalo entre 2 e 20 é 209\n",
      "A soma do números do intervalo entre 3 e 20 é 207\n",
      "A soma do números do intervalo entre 4 e 20 é 204\n",
      "A soma do números do intervalo entre 5 e 20 é 200\n",
      "A soma do números do intervalo entre 6 e 20 é 195\n",
      "A soma do números do intervalo entre 7 e 20 é 189\n",
      "A soma do números do intervalo entre 8 e 20 é 182\n",
      "A soma do números do intervalo entre 9 e 20 é 174\n",
      "A soma do números do intervalo entre 10 e 20 é 165\n",
      "A soma do números do intervalo entre 11 e 20 é 155\n",
      "A soma do números do intervalo entre 12 e 20 é 144\n",
      "A soma do números do intervalo entre 13 e 20 é 132\n",
      "A soma do números do intervalo entre 14 e 20 é 119\n",
      "A soma do números do intervalo entre 15 e 20 é 105\n",
      "A soma do números do intervalo entre 16 e 20 é 90\n",
      "A soma do números do intervalo entre 17 e 20 é 74\n",
      "A soma do números do intervalo entre 18 e 20 é 57\n",
      "A soma do números do intervalo entre 19 e 20 é 39\n"
     ]
    }
   ],
   "source": [
    "for i in range (1, 20):\n",
    "    print('A soma do números do intervalo entre ', i, ' e 20 é ', calcular_intervalo(i, 20), sep='')"
   ]
  },
  {
   "cell_type": "code",
   "execution_count": 12,
   "id": "d8e2c66a",
   "metadata": {},
   "outputs": [
    {
     "name": "stdout",
     "output_type": "stream",
     "text": [
      "O valor inicial deve ser maior que o valor final\n"
     ]
    }
   ],
   "source": [
    "print(calcular_intervalo(10, 7), sep='')"
   ]
  }
 ],
 "metadata": {
  "kernelspec": {
   "display_name": "Python 3 (ipykernel)",
   "language": "python",
   "name": "python3"
  },
  "language_info": {
   "codemirror_mode": {
    "name": "ipython",
    "version": 3
   },
   "file_extension": ".py",
   "mimetype": "text/x-python",
   "name": "python",
   "nbconvert_exporter": "python",
   "pygments_lexer": "ipython3",
   "version": "3.11.4"
  }
 },
 "nbformat": 4,
 "nbformat_minor": 5
}
