{
 "cells": [
  {
   "cell_type": "code",
   "execution_count": 1,
   "id": "5284d747",
   "metadata": {},
   "outputs": [],
   "source": [
    "import numpy as np"
   ]
  },
  {
   "cell_type": "code",
   "execution_count": 2,
   "id": "cf26ae25",
   "metadata": {},
   "outputs": [],
   "source": [
    "# Gerar um array aleatório de 100 elementos\n",
    "array_aleatorio = np.random.randint(1, 101, size=100)"
   ]
  },
  {
   "cell_type": "code",
   "execution_count": 3,
   "id": "f6e9c8a4",
   "metadata": {},
   "outputs": [
    {
     "name": "stdout",
     "output_type": "stream",
     "text": [
      "[  5  32  42  60  59  96  53  36  67   5  78  42  81  94  70  17   2  14\n",
      "  32  78  72  83  43  69  23  92  72  14  78  64   3  33 100  59  35  82\n",
      "   2  17  90  16  53  96  86   7  97  28  29  37  45  56  54  31  34  41\n",
      "  99  36  67  31  18  15  55  25  29  99  10  59  99  90  63  47  78  63\n",
      "   4  53  35  73  93  38   4  50  69  75  93  22  31  50  76  31  79  62\n",
      "  16  62   8  91  97  74  62 100  98  49]\n"
     ]
    }
   ],
   "source": [
    "print(array_aleatorio)"
   ]
  },
  {
   "cell_type": "code",
   "execution_count": 4,
   "id": "1d3ef0ff",
   "metadata": {},
   "outputs": [],
   "source": [
    "# Ordenar o array\n",
    "array_ordenado = np.sort(array_aleatorio)"
   ]
  },
  {
   "cell_type": "code",
   "execution_count": 5,
   "id": "b603d4e4",
   "metadata": {},
   "outputs": [
    {
     "name": "stdout",
     "output_type": "stream",
     "text": [
      "[  2   2   3   4   4   5   5   7   8  10  14  14  15  16  16  17  17  18\n",
      "  22  23  25  28  29  29  31  31  31  31  32  32  33  34  35  35  36  36\n",
      "  37  38  41  42  42  43  45  47  49  50  50  53  53  53  54  55  56  59\n",
      "  59  59  60  62  62  62  63  63  64  67  67  69  69  70  72  72  73  74\n",
      "  75  76  78  78  78  78  79  81  82  83  86  90  90  91  92  93  93  94\n",
      "  96  96  97  97  98  99  99  99 100 100]\n"
     ]
    }
   ],
   "source": [
    "print(array_ordenado)"
   ]
  },
  {
   "cell_type": "code",
   "execution_count": 6,
   "id": "76395a49",
   "metadata": {},
   "outputs": [],
   "source": [
    "# Calcular a mediana correspondente\n",
    "mediana = np.median(array_ordenado)"
   ]
  },
  {
   "cell_type": "code",
   "execution_count": 7,
   "id": "4f05a3af",
   "metadata": {},
   "outputs": [
    {
     "name": "stdout",
     "output_type": "stream",
     "text": [
      "53.5\n"
     ]
    }
   ],
   "source": [
    "print(mediana)"
   ]
  },
  {
   "cell_type": "code",
   "execution_count": 8,
   "id": "8ae2138d",
   "metadata": {},
   "outputs": [],
   "source": [
    "# Escrever uma função para calcular o fatorial de um número qualquer\n",
    "def calcular_fatorial(n):\n",
    "    numeros = np.arange(1, n+1, dtype=np.int64)\n",
    "    retorno = np.prod(numeros)\n",
    "    return retorno"
   ]
  },
  {
   "cell_type": "code",
   "execution_count": 9,
   "id": "9acaf9a6",
   "metadata": {},
   "outputs": [
    {
     "name": "stdout",
     "output_type": "stream",
     "text": [
      "Fatorial de 1!: 1\n",
      "Fatorial de 2!: 2\n",
      "Fatorial de 3!: 6\n",
      "Fatorial de 4!: 24\n",
      "Fatorial de 5!: 120\n",
      "Fatorial de 6!: 720\n",
      "Fatorial de 7!: 5040\n",
      "Fatorial de 8!: 40320\n",
      "Fatorial de 9!: 362880\n",
      "Fatorial de 10!: 3628800\n",
      "Fatorial de 11!: 39916800\n",
      "Fatorial de 12!: 479001600\n",
      "Fatorial de 13!: 6227020800\n",
      "Fatorial de 14!: 87178291200\n",
      "Fatorial de 15!: 1307674368000\n",
      "Fatorial de 16!: 20922789888000\n",
      "Fatorial de 17!: 355687428096000\n",
      "Fatorial de 18!: 6402373705728000\n",
      "Fatorial de 19!: 121645100408832000\n"
     ]
    }
   ],
   "source": [
    "for i in range (1, 20):\n",
    "    print('Fatorial de ', i, '!: ', calcular_fatorial(i), sep='')"
   ]
  },
  {
   "cell_type": "code",
   "execution_count": 10,
   "id": "18397104",
   "metadata": {},
   "outputs": [],
   "source": [
    "# Escrever uma função para calcular a soma de uma série começando por um número qualquer e\n",
    "# terminando em outro número que deve ser maior que o primeiro\n",
    "def calcular_intervalo(x, y):\n",
    "    if x >= y:\n",
    "        return 'O valor inicial deve ser maior que o valor final'\n",
    "    \n",
    "    intervalo = np.arange(x, y+1)\n",
    "    soma = np.sum(intervalo)\n",
    "    \n",
    "    return soma"
   ]
  },
  {
   "cell_type": "code",
   "execution_count": 11,
   "id": "53557d73",
   "metadata": {},
   "outputs": [
    {
     "name": "stdout",
     "output_type": "stream",
     "text": [
      "A soma do números do intervalo entre 1 e 20 é 210\n",
      "A soma do números do intervalo entre 2 e 20 é 209\n",
      "A soma do números do intervalo entre 3 e 20 é 207\n",
      "A soma do números do intervalo entre 4 e 20 é 204\n",
      "A soma do números do intervalo entre 5 e 20 é 200\n",
      "A soma do números do intervalo entre 6 e 20 é 195\n",
      "A soma do números do intervalo entre 7 e 20 é 189\n",
      "A soma do números do intervalo entre 8 e 20 é 182\n",
      "A soma do números do intervalo entre 9 e 20 é 174\n",
      "A soma do números do intervalo entre 10 e 20 é 165\n",
      "A soma do números do intervalo entre 11 e 20 é 155\n",
      "A soma do números do intervalo entre 12 e 20 é 144\n",
      "A soma do números do intervalo entre 13 e 20 é 132\n",
      "A soma do números do intervalo entre 14 e 20 é 119\n",
      "A soma do números do intervalo entre 15 e 20 é 105\n",
      "A soma do números do intervalo entre 16 e 20 é 90\n",
      "A soma do números do intervalo entre 17 e 20 é 74\n",
      "A soma do números do intervalo entre 18 e 20 é 57\n",
      "A soma do números do intervalo entre 19 e 20 é 39\n"
     ]
    }
   ],
   "source": [
    "for i in range (1, 20):\n",
    "    print('A soma do números do intervalo entre ', i, ' e 20 é ', calcular_intervalo(i, 20), sep='')"
   ]
  },
  {
   "cell_type": "code",
   "execution_count": 12,
   "id": "d8e2c66a",
   "metadata": {},
   "outputs": [
    {
     "name": "stdout",
     "output_type": "stream",
     "text": [
      "O valor inicial deve ser maior que o valor final\n"
     ]
    }
   ],
   "source": [
    "print(calcular_intervalo(10, 7), sep='')"
   ]
  }
 ],
 "metadata": {
  "kernelspec": {
   "display_name": "Python 3 (ipykernel)",
   "language": "python",
   "name": "python3"
  },
  "language_info": {
   "codemirror_mode": {
    "name": "ipython",
    "version": 3
   },
   "file_extension": ".py",
   "mimetype": "text/x-python",
   "name": "python",
   "nbconvert_exporter": "python",
   "pygments_lexer": "ipython3",
   "version": "3.11.4"
  }
 },
 "nbformat": 4,
 "nbformat_minor": 5
}
